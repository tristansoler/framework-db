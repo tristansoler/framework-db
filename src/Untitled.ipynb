{
 "cells": [
  {
   "cell_type": "code",
   "execution_count": 1,
   "id": "4fc0212c-3e00-4db6-adf7-df9bd209a479",
   "metadata": {},
   "outputs": [
    {
     "name": "stdout",
     "output_type": "stream",
     "text": [
      "morningstar\n",
      "region\n",
      "aihd1airas3aihgdp\n",
      "LandingToRaw(incoming_file=IncomingFileLandingToRaw(zipped='zip', file_format='csv', filename_pattern='RTPP_REG_ROW_TYPE_VALUATION_V2_\\\\d{8}_CORRECTION.ZIP', filename_unzipped_pattern='RTPP_REG_ROW_TYPE_VALUATION_V2_\\\\d{8}_CORRECTION.TXT', csv_specs=CSVSpecs(header_position=0, header=True, encoding='UTF-8', delimiter=';', date_located='filename', date_located_filename=DateLocatedFilename(regex='(\\\\d{4})(\\\\d{2})(\\\\d{2})')), validations=Validations(validate_filename=True, validate_csv=True, validate_columns=True), compare_with_previous_file=False), output_file=DatabaseTable(database='funds_raw', table='morningstar_valuation_correction', primary_keys=None, partition_field='datadate'), processing_specifications=ProcessingSpecifications(technology='emr', hardware=Hardware(ram=512, cpu=None, disk=None), spark_configuration=SparkConfiguration(catalog=None, warehouse='funds_raw', custom_configuration=[])))\n",
      "TableDict(tables={'morningstar_valuation_prod': DatabaseTable(database='funds_raw', table='morningstar_valuation_prod', primary_keys=['performanceid', 'date', 'datadate'], partition_field='datadate'), 'morningstar_valuation_correction': DatabaseTable(database='funds_raw', table='morningstar_valuation_correction', primary_keys=['performanceid', 'date', 'datadate'], partition_field='datadate')})\n"
     ]
    }
   ],
   "source": [
    "from data_framework.modules.utils.logger import logger\n",
    "from data_framework.modules.config.core import ConfigSetup\n",
    "from data_framework.modules.config.core import config, ConfigSetup\n",
    "\n",
    "import sys\n",
    "import os\n",
    "\n",
    "os.environ[\"AWS_REGION\"] = \"region\"\n",
    "\n",
    "sys.argv = [\n",
    "    \"sample.py\",\n",
    "    '--local-file', '\\\\tests\\\\resources\\\\configs\\\\morningstar',\n",
    "    '--dataflow', 'morningstar_valuation_correction',\n",
    "    '--process', 'landing_to_raw',\n",
    "    '--source-file-path', 'morningstar_dividend_correction/inbound/RTPP_REG_ROW_TYPE_DIVIDEND_20240710_CORRECTION.ZIP'\n",
    "]\n",
    "\n",
    "ConfigSetup()\n",
    "print(config().project_id)\n",
    "print(config().parameters.region)\n",
    "print(config().parameters.bucket_prefix)\n",
    "print(config().processes.landing_to_raw)\n",
    "print(config().processes.raw_to_staging.source_tables)\n",
    "\n",
    "\n",
    "\n"
   ]
  },
  {
   "cell_type": "code",
   "execution_count": 2,
   "id": "8c767723",
   "metadata": {},
   "outputs": [
    {
     "name": "stdout",
     "output_type": "stream",
     "text": [
      "PayloadResponse(success=False, next_stage=False, file_name=None, file_date=None, data_quality=DataQuality(tables=[]), outputs=[])\n",
      "2024-11-25 09:57:16 [ERROR][landing.py][process][52] Error processing file morningstar_dividend_correction/inbound/RTPP_REG_ROW_TYPE_DIVIDEND_20240710_CORRECTION.ZIP: Could not connect to the endpoint URL: \"https://aihd1airas3aihgdp-landing.s3.region.amazonaws.com/morningstar_dividend_correction/inbound/RTPP_REG_ROW_TYPE_DIVIDEND_20240710_CORRECTION.ZIP\"\n"
     ]
    }
   ],
   "source": [
    "from data_framework.dataflow.landing import *\n",
    "\n",
    "pc = ProcessingCoordinator()\n",
    "pc.process()"
   ]
  }
 ],
 "metadata": {
  "kernelspec": {
   "display_name": "Python 3",
   "language": "python",
   "name": "python3"
  },
  "language_info": {
   "codemirror_mode": {
    "name": "ipython",
    "version": 3
   },
   "file_extension": ".py",
   "mimetype": "text/x-python",
   "name": "python",
   "nbconvert_exporter": "python",
   "pygments_lexer": "ipython3",
   "version": "3.12.0"
  }
 },
 "nbformat": 4,
 "nbformat_minor": 5
}
