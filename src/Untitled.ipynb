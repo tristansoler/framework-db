{
 "cells": [
  {
   "cell_type": "code",
   "execution_count": 1,
   "id": "4fc0212c-3e00-4db6-adf7-df9bd209a479",
   "metadata": {},
   "outputs": [
    {
     "name": "stdout",
     "output_type": "stream",
     "text": [
      "region\n",
      "aihd1airas3aihgdp\n",
      "LandingToRaw(incoming_file=IncomingFileLandingToRaw(zipped='zip', file_format='csv', filename_pattern='RTPP_REG_ROW_TYPE_VALUATION_V2_\\\\d{8}_CORRECTION.ZIP', filename_unzipped_pattern='RTPP_REG_ROW_TYPE_VALUATION_V2_\\\\d{8}_CORRECTION.TXT', csv_specs=CSVSpecs(header_position=0, header=True, encoding='UTF-8', delimiter=';', date_located='filename', date_located_filename=DateLocatedFilename(regex='(\\\\d{4})(\\\\d{2})(\\\\d{2})')), validations=Validations(validate_extension=True, validate_filename=True, validate_csv=True, validate_columns=True)), output_file=DatabaseTable(database='funds_raw', table='morningstar_valuation_correction', primary_keys=None, partition_field='datadate'), processing_specifications=ProcessingSpecifications(technology='emr', hardware=Hardware(ram=512, cpu=None, disk=None), spark_configuration=SparkConfiguration(catalog=None, warehouse='funds_raw', custom_configuration=[])))\n",
      "TableDict(tables={'morningstar_valuation_prod': DatabaseTable(database='funds_raw', table='morningstar_valuation_prod', primary_keys=['performanceid', 'date', 'datadate'], partition_field='datadate'), 'morningstar_valuation_correction': DatabaseTable(database='funds_raw', table='morningstar_valuation_correction', primary_keys=['performanceid', 'date', 'datadate'], partition_field='datadate')})\n",
      "\n"
     ]
    }
   ],
   "source": [
    "from data_framework.modules.utils.logger import logger\n",
    "from data_framework.modules.config.core import ConfigSetup\n",
    "from data_framework.modules.config.core import config, ConfigSetup\n",
    "\n",
    "import sys\n",
    "import os\n",
    "\n",
    "os.environ[\"AWS_REGION\"] = \"region\"\n",
    "\n",
    "sys.argv = [\n",
    "    \"sample.py\",\n",
    "    '--local-file', 'morningstar',\n",
    "    '--dataflow', 'morningstar_valuation_correction',\n",
    "    '--process', 'raw_to_staging',\n",
    "    '--source-file-path', 'morningstar_dividend_correction/inbound/RTPP_REG_ROW_TYPE_DIVIDEND_20240710_CORRECTION.ZIP'\n",
    "]\n",
    "\n",
    "ConfigSetup()\n",
    "print(config().parameters.region)\n",
    "print(config().parameters.bucket_prefix)\n",
    "print(config().processes.landing_to_raw)\n",
    "print(config().processes.raw_to_staging.source_tables)\n",
    "\n",
    "for spark in config().processes.raw_to_staging.processing_specifications.spark_configuration.custom_configuration:\n",
    "    print(f'spark {spark}')\n",
    "\n",
    "print()\n",
    "\n",
    "\n"
   ]
  }
 ],
 "metadata": {
  "kernelspec": {
   "display_name": "Python 3",
   "language": "python",
   "name": "python3"
  },
  "language_info": {
   "codemirror_mode": {
    "name": "ipython",
    "version": 3
   },
   "file_extension": ".py",
   "mimetype": "text/x-python",
   "name": "python",
   "nbconvert_exporter": "python",
   "pygments_lexer": "ipython3",
   "version": "3.12.0"
  }
 },
 "nbformat": 4,
 "nbformat_minor": 5
}
