{
 "cells": [
  {
   "cell_type": "code",
   "execution_count": 1,
   "id": "4fc0212c-3e00-4db6-adf7-df9bd209a479",
   "metadata": {},
   "outputs": [
    {
     "name": "stdout",
     "output_type": "stream",
     "text": [
      "\n",
      "                    vars: field:parameters field_type:<class 'data_framework.modules.config.model.flows.Parameters'> parameters:{'local_file': 'C:\\\\Users\\\\x850374\\\\Projects\\\\platform\\\\data_framework\\\\src\\\\data_framework\\\\tests\\\\resources\\\\configs\\\\morningstar.json', 'dataflow': 'prod', 'process': 'raw_to_staging', 'file_date': '2024-10-01', 'source_file_path': 'morningstar_dividend_correction/inbound/RTPP_REG_ROW_TYPE_DIVIDEND_20240710_CORRECTION.ZIP'} json_file:{'config_match_by': {'file_name': '*_PROD.*'}, 'processes': {'landing_to_raw': {'incoming_file': {'filename_pattern': 'RIPS_REG_ROW_\\\\d{8}_PROD.ZIP', 'filename_unzipped_pattern': 'RIPS_REG_ROW_\\\\d{8}_PROD.TXT', 'zipped': 'zip', 'file_format': 'csv', 'csv_specs': {'header_position': 0, 'header': True, 'encoding': 'UTF-8', 'delimiter': ';', 'special_character': '\"', 'date_located': 'filename', 'date_located_filename': {'regex': '(\\\\d{4})(\\\\d{2})(\\\\d{2})'}}}, 'output_file': {'table': 'morningstar_rips_prod', 'database': 'funds_raw'}, 'processing_specifications': {'technology': 'emr', 'hardware': {'ram': 4096}, 'spark_configuration': {'default_catalog': True, 'warehouse': 'funds_raw'}}}, 'raw_to_staging': {'processing_specifications': {'hardware': {'ram': 4}, 'spark_configuration': {'custom_configuration': [{'parameter': 'spark.sql.shuffle.partitions', 'value': '200'}, {'parameter': 'spark.executor.memoryOverhead', 'value': '2g'}, {'parameter': 'spark.sql.files.maxPartitionBytes', 'value': '128MB'}, {'parameter': 'spark.sql.files.openCostInBytes', 'value': '4MB'}], 'full_volumetric_expectation': {'data_size_gb': 400, 'avg_file_size_mb': 200}}, 'technology': 'emr'}, 'source_tables': {'prod': {'database': 'funds_raw', 'table': 'morningstar_rips_prod', 'primary_keys': ['performanceid', 'date', 'datadate']}, 'correction': {'database': 'funds_raw', 'table': 'morningstar_rips_correction', 'primary_keys': ['performanceid', 'date', 'datadate']}}, 'target_tables': {'morningstar_rips': {'database': 'funds_staging', 'table': 'morningstar_rips', 'primary_keys': ['performanceid', 'date', 'datadate']}}}, 'staging_to_common': {'source_tables': {'morningstar_rips': {'database': 'funds_staging', 'table': 'morningstar_rips', 'primary_keys': ['performanceid', 'date', 'datadate']}, 'cross_reference_ids': {'database': 'funds_common', 'table': 'cross_reference_ids', 'primary_keys': ['reference_source_id', 'reference_provider_id']}, 'master_providers': {'database': 'funds_common', 'table': 'master_providers', 'primary_keys': ['provider_id']}, 'master_products_valuations': {'database': 'funds_common', 'table': 'master_products_valuations', 'primary_keys': ['valuation_id']}, 'fact_products_valuations_results': {'database': 'funds_common', 'table': 'fact_products_valuations_results', 'primary_keys': ['valuation_id', 'wm_id', 'value_date']}}, 'target_tables': {'morningstar_rips': {'database': 'funds_common', 'table': 'morningstar_rips', 'primary_keys': ['performanceid', 'date', 'datadate']}, 'fact_products_valuations_results': {'database': 'funds_common', 'table': 'fact_products_valuations_results', 'primary_keys': ['valuation_id', 'wm_id', 'value_date']}, 'controls_series': {'database': 'funds_common', 'table': 'controls_series', 'primary_keys': ['wm_id', 'value_date']}}, 'processing_specifications': {'technology': 'emr', 'spark_configuration': {'default_catalog': True, 'warehouse': 'funds_staging', 'full_volumetric_expectation': {'data_size_gb': 400, 'avg_file_size_mb': 200}}}}}, 'environment': 'develop', 'project_id': None} default_value:None\n",
      "                    Exception: TypeError\n",
      "                    Error: Parameters() takes no arguments\n",
      "                    Trace:\n",
      "                    Traceback (most recent call last):\n",
      "  File \"c:\\Users\\x850374\\Projects\\platform\\data_framework\\src\\data_framework\\modules\\config\\core.py\", line 141, in parse_to_model\n",
      "    kwargs[field] = cls.parse_to_model(model=field_type, json_file=parameters)\n",
      "                    ^^^^^^^^^^^^^^^^^^^^^^^^^^^^^^^^^^^^^^^^^^^^^^^^^^^^^^^^^^\n",
      "  File \"c:\\Users\\x850374\\Projects\\platform\\data_framework\\src\\data_framework\\modules\\config\\core.py\", line 178, in parse_to_model\n",
      "    return model(**kwargs)\n",
      "           ^^^^^^^^^^^^^^^\n",
      "TypeError: Parameters() takes no arguments\n",
      "\n",
      "                \n"
     ]
    },
    {
     "ename": "TypeError",
     "evalue": "Config.__init__() missing 2 required positional arguments: 'parameters' and 'project_id'",
     "output_type": "error",
     "traceback": [
      "\u001b[1;31m---------------------------------------------------------------------------\u001b[0m",
      "\u001b[1;31mTypeError\u001b[0m                                 Traceback (most recent call last)",
      "Cell \u001b[1;32mIn[1], line 22\u001b[0m\n\u001b[0;32m     10\u001b[0m os\u001b[38;5;241m.\u001b[39menviron[\u001b[38;5;124m\"\u001b[39m\u001b[38;5;124mAWS_REGION\u001b[39m\u001b[38;5;124m\"\u001b[39m] \u001b[38;5;241m=\u001b[39m \u001b[38;5;124m\"\u001b[39m\u001b[38;5;124meu-west-1\u001b[39m\u001b[38;5;124m\"\u001b[39m\n\u001b[0;32m     12\u001b[0m sys\u001b[38;5;241m.\u001b[39margv \u001b[38;5;241m=\u001b[39m [\n\u001b[0;32m     13\u001b[0m     \u001b[38;5;124m\"\u001b[39m\u001b[38;5;124msample.py\u001b[39m\u001b[38;5;124m\"\u001b[39m,\n\u001b[0;32m     14\u001b[0m     \u001b[38;5;124m'\u001b[39m\u001b[38;5;124m--local-file\u001b[39m\u001b[38;5;124m'\u001b[39m, \u001b[38;5;124m'\u001b[39m\u001b[38;5;124mC:\u001b[39m\u001b[38;5;130;01m\\\\\u001b[39;00m\u001b[38;5;124mUsers\u001b[39m\u001b[38;5;130;01m\\\\\u001b[39;00m\u001b[38;5;124mx850374\u001b[39m\u001b[38;5;130;01m\\\\\u001b[39;00m\u001b[38;5;124mProjects\u001b[39m\u001b[38;5;130;01m\\\\\u001b[39;00m\u001b[38;5;124mplatform\u001b[39m\u001b[38;5;130;01m\\\\\u001b[39;00m\u001b[38;5;124mdata_framework\u001b[39m\u001b[38;5;130;01m\\\\\u001b[39;00m\u001b[38;5;124msrc\u001b[39m\u001b[38;5;130;01m\\\\\u001b[39;00m\u001b[38;5;124mdata_framework\u001b[39m\u001b[38;5;130;01m\\\\\u001b[39;00m\u001b[38;5;124mtests\u001b[39m\u001b[38;5;130;01m\\\\\u001b[39;00m\u001b[38;5;124mresources\u001b[39m\u001b[38;5;130;01m\\\\\u001b[39;00m\u001b[38;5;124mconfigs\u001b[39m\u001b[38;5;130;01m\\\\\u001b[39;00m\u001b[38;5;124mmorningstar.json\u001b[39m\u001b[38;5;124m'\u001b[39m,\n\u001b[1;32m   (...)\u001b[0m\n\u001b[0;32m     19\u001b[0m     \u001b[38;5;124m'\u001b[39m\u001b[38;5;124m--source-file-path\u001b[39m\u001b[38;5;124m'\u001b[39m, \u001b[38;5;124m'\u001b[39m\u001b[38;5;124mmorningstar_dividend_correction/inbound/RTPP_REG_ROW_TYPE_DIVIDEND_20240710_CORRECTION.ZIP\u001b[39m\u001b[38;5;124m'\u001b[39m\n\u001b[0;32m     20\u001b[0m ]\n\u001b[1;32m---> 22\u001b[0m \u001b[43mConfigSetup\u001b[49m\u001b[43m(\u001b[49m\u001b[43m)\u001b[49m\n\u001b[0;32m     23\u001b[0m \u001b[38;5;28mprint\u001b[39m(config()\u001b[38;5;241m.\u001b[39mproject_id)\n\u001b[0;32m     24\u001b[0m \u001b[38;5;28mprint\u001b[39m(config()\u001b[38;5;241m.\u001b[39mparameters\u001b[38;5;241m.\u001b[39mexecution_mode)\n",
      "File \u001b[1;32mc:\\Users\\x850374\\Projects\\platform\\data_framework\\src\\data_framework\\modules\\config\\core.py:66\u001b[0m, in \u001b[0;36mConfigSetup.__init__\u001b[1;34m(self, parameters)\u001b[0m\n\u001b[0;32m     63\u001b[0m dataflow \u001b[38;5;241m=\u001b[39m parameters\u001b[38;5;241m.\u001b[39mget(\u001b[38;5;124m'\u001b[39m\u001b[38;5;124mdataflow\u001b[39m\u001b[38;5;124m'\u001b[39m)\n\u001b[0;32m     64\u001b[0m json_config \u001b[38;5;241m=\u001b[39m ConfigSetup\u001b[38;5;241m.\u001b[39mread_config_file(dataflow\u001b[38;5;241m=\u001b[39mdataflow, local_file\u001b[38;5;241m=\u001b[39mlocal_file)\n\u001b[1;32m---> 66\u001b[0m \u001b[38;5;28mself\u001b[39m\u001b[38;5;241m.\u001b[39m_instancia\u001b[38;5;241m.\u001b[39mconfig \u001b[38;5;241m=\u001b[39m \u001b[43mConfigSetup\u001b[49m\u001b[38;5;241;43m.\u001b[39;49m\u001b[43mparse_to_model\u001b[49m\u001b[43m(\u001b[49m\u001b[43mmodel\u001b[49m\u001b[38;5;241;43m=\u001b[39;49m\u001b[43mConfig\u001b[49m\u001b[43m,\u001b[49m\u001b[43m \u001b[49m\u001b[43mparameters\u001b[49m\u001b[38;5;241;43m=\u001b[39;49m\u001b[43mparameters\u001b[49m\u001b[43m,\u001b[49m\u001b[43m \u001b[49m\u001b[43mjson_file\u001b[49m\u001b[38;5;241;43m=\u001b[39;49m\u001b[43mjson_config\u001b[49m\u001b[43m)\u001b[49m\n",
      "File \u001b[1;32mc:\\Users\\x850374\\Projects\\platform\\data_framework\\src\\data_framework\\modules\\config\\core.py:178\u001b[0m, in \u001b[0;36mConfigSetup.parse_to_model\u001b[1;34m(cls, model, json_file, parameters)\u001b[0m\n\u001b[0;32m    168\u001b[0m     \u001b[38;5;66;03m# Imprimir la información de la excepción\u001b[39;00m\n\u001b[0;32m    169\u001b[0m     \u001b[38;5;28mprint\u001b[39m(\n\u001b[0;32m    170\u001b[0m         \u001b[38;5;124mf\u001b[39m\u001b[38;5;124m\"\"\"\u001b[39m\n\u001b[0;32m    171\u001b[0m \u001b[38;5;124m            vars: field:\u001b[39m\u001b[38;5;132;01m{\u001b[39;00mfield\u001b[38;5;132;01m}\u001b[39;00m\u001b[38;5;124m field_type:\u001b[39m\u001b[38;5;132;01m{\u001b[39;00mfield_type\u001b[38;5;132;01m}\u001b[39;00m\u001b[38;5;124m parameters:\u001b[39m\u001b[38;5;132;01m{\u001b[39;00mparameters\u001b[38;5;132;01m}\u001b[39;00m\u001b[38;5;124m json_file:\u001b[39m\u001b[38;5;132;01m{\u001b[39;00mjson_file\u001b[38;5;132;01m}\u001b[39;00m\u001b[38;5;124m default_value:\u001b[39m\u001b[38;5;132;01m{\u001b[39;00mdefault_value\u001b[38;5;132;01m}\u001b[39;00m\n\u001b[1;32m   (...)\u001b[0m\n\u001b[0;32m    176\u001b[0m \u001b[38;5;124m        \u001b[39m\u001b[38;5;124m\"\"\"\u001b[39m\n\u001b[0;32m    177\u001b[0m     )\n\u001b[1;32m--> 178\u001b[0m \u001b[38;5;28;01mreturn\u001b[39;00m \u001b[43mmodel\u001b[49m\u001b[43m(\u001b[49m\u001b[38;5;241;43m*\u001b[39;49m\u001b[38;5;241;43m*\u001b[39;49m\u001b[43mkwargs\u001b[49m\u001b[43m)\u001b[49m\n",
      "\u001b[1;31mTypeError\u001b[0m: Config.__init__() missing 2 required positional arguments: 'parameters' and 'project_id'"
     ]
    }
   ],
   "source": [
    "from data_framework.modules.utils.logger import logger\n",
    "from data_framework.modules.config.core import ConfigSetup\n",
    "from data_framework.modules.config.core import config, ConfigSetup\n",
    "from data_framework.modules.dataflow.interface_dataflow import *\n",
    "from data_framework.modules.config.model.flows import *\n",
    "from data_framework.modules.data_process.integrations.spark.dynamic_config import DynamicConfig\n",
    "import sys\n",
    "import os\n",
    "\n",
    "os.environ[\"AWS_REGION\"] = \"eu-west-1\"\n",
    "\n",
    "sys.argv = [\n",
    "    \"sample.py\",\n",
    "    '--local-file', 'C:\\\\Users\\\\x850374\\\\Projects\\\\platform\\\\data_framework\\\\src\\\\data_framework\\\\tests\\\\resources\\\\configs\\\\morningstar.json',\n",
    "    '--dataflow', 'prod',\n",
    "    '--process', 'raw_to_staging',\n",
    "    '--file_date', '2024-10-01',\n",
    "    #'--execution_mode', 'full',\n",
    "    '--source-file-path', 'morningstar_dividend_correction/inbound/RTPP_REG_ROW_TYPE_DIVIDEND_20240710_CORRECTION.ZIP'\n",
    "]\n",
    "\n",
    "ConfigSetup()\n",
    "print(config().project_id)\n",
    "print(config().parameters.execution_mode)\n",
    "print(config().parameters.bucket_prefix)\n",
    "print(config().processes.landing_to_raw.processing_specifications.spark_configuration.delta_volumetric_expectation)\n",
    "print(config().processes.raw_to_staging.processing_specifications.spark_configuration.full_volumetric_expectation)\n",
    "print(config().processes.raw_to_staging.processing_specifications.spark_configuration.volumetric_expectation)\n",
    "print(config().processes.landing_to_raw.incoming_file.csv_specs.read_config())\n",
    "print(config().processes.raw_to_staging.source_tables.table(\"prod\"))\n",
    "\n",
    "print(config().parameters.source_file_path)\n",
    "\n",
    "config().parameters.source_file_path = \"peras\"\n",
    "\n",
    "print(config().parameters.source_file_path)\n",
    "\n",
    "print(Database(\"funds_raw\").value)\n",
    "\n",
    "#di = DataFlowInterface()\n",
    "\n",
    "#di.read_table_with_casting(name_of_raw_table='prod', name_of_staging_table_to_casting='morningstar_rips')\n",
    "\n",
    "dynamic_config = DynamicConfig.recommend_spark_config(\n",
    "    dataset_size_gb=0.1,\n",
    "    avg_file_size_mb=100\n",
    ")\n",
    "print(dynamic_config)\n",
    "\n"
   ]
  },
  {
   "cell_type": "code",
   "execution_count": 8,
   "id": "74c7f5a8",
   "metadata": {},
   "outputs": [
    {
     "ename": "AnalysisException",
     "evalue": "[PATH_NOT_FOUND] Path does not exist: file:/c:/Users/x850374/Projects/platform/data_framework/src/dsd.",
     "output_type": "error",
     "traceback": [
      "\u001b[1;31m---------------------------------------------------------------------------\u001b[0m",
      "\u001b[1;31mAnalysisException\u001b[0m                         Traceback (most recent call last)",
      "Cell \u001b[1;32mIn[8], line 2\u001b[0m\n\u001b[0;32m      1\u001b[0m csv_read_config \u001b[38;5;241m=\u001b[39m config()\u001b[38;5;241m.\u001b[39mprocesses\u001b[38;5;241m.\u001b[39mlanding_to_raw\u001b[38;5;241m.\u001b[39mincoming_file\u001b[38;5;241m.\u001b[39mcsv_specs\u001b[38;5;241m.\u001b[39mread_config()\n\u001b[1;32m----> 2\u001b[0m df_raw \u001b[38;5;241m=\u001b[39m \u001b[43mspark\u001b[49m\u001b[38;5;241;43m.\u001b[39;49m\u001b[43mread\u001b[49m\u001b[38;5;241;43m.\u001b[39;49m\u001b[43moptions\u001b[49m\u001b[43m(\u001b[49m\u001b[38;5;241;43m*\u001b[39;49m\u001b[38;5;241;43m*\u001b[39;49m\u001b[43mcsv_read_config\u001b[49m\u001b[43m)\u001b[49m\u001b[38;5;241;43m.\u001b[39;49m\u001b[43mcsv\u001b[49m\u001b[43m(\u001b[49m\u001b[38;5;124;43m\"\u001b[39;49m\u001b[38;5;124;43mdsd\u001b[39;49m\u001b[38;5;124;43m\"\u001b[39;49m\u001b[43m)\u001b[49m\n",
      "File \u001b[1;32mc:\\Program Files\\Python312\\Lib\\site-packages\\pyspark\\sql\\readwriter.py:740\u001b[0m, in \u001b[0;36mDataFrameReader.csv\u001b[1;34m(self, path, schema, sep, encoding, quote, escape, comment, header, inferSchema, ignoreLeadingWhiteSpace, ignoreTrailingWhiteSpace, nullValue, nanValue, positiveInf, negativeInf, dateFormat, timestampFormat, maxColumns, maxCharsPerColumn, maxMalformedLogPerPartition, mode, columnNameOfCorruptRecord, multiLine, charToEscapeQuoteEscaping, samplingRatio, enforceSchema, emptyValue, locale, lineSep, pathGlobFilter, recursiveFileLookup, modifiedBefore, modifiedAfter, unescapedQuoteHandling)\u001b[0m\n\u001b[0;32m    738\u001b[0m \u001b[38;5;28;01mif\u001b[39;00m \u001b[38;5;28mtype\u001b[39m(path) \u001b[38;5;241m==\u001b[39m \u001b[38;5;28mlist\u001b[39m:\n\u001b[0;32m    739\u001b[0m     \u001b[38;5;28;01massert\u001b[39;00m \u001b[38;5;28mself\u001b[39m\u001b[38;5;241m.\u001b[39m_spark\u001b[38;5;241m.\u001b[39m_sc\u001b[38;5;241m.\u001b[39m_jvm \u001b[38;5;129;01mis\u001b[39;00m \u001b[38;5;129;01mnot\u001b[39;00m \u001b[38;5;28;01mNone\u001b[39;00m\n\u001b[1;32m--> 740\u001b[0m     \u001b[38;5;28;01mreturn\u001b[39;00m \u001b[38;5;28mself\u001b[39m\u001b[38;5;241m.\u001b[39m_df(\u001b[38;5;28;43mself\u001b[39;49m\u001b[38;5;241;43m.\u001b[39;49m\u001b[43m_jreader\u001b[49m\u001b[38;5;241;43m.\u001b[39;49m\u001b[43mcsv\u001b[49m\u001b[43m(\u001b[49m\u001b[38;5;28;43mself\u001b[39;49m\u001b[38;5;241;43m.\u001b[39;49m\u001b[43m_spark\u001b[49m\u001b[38;5;241;43m.\u001b[39;49m\u001b[43m_sc\u001b[49m\u001b[38;5;241;43m.\u001b[39;49m\u001b[43m_jvm\u001b[49m\u001b[38;5;241;43m.\u001b[39;49m\u001b[43mPythonUtils\u001b[49m\u001b[38;5;241;43m.\u001b[39;49m\u001b[43mtoSeq\u001b[49m\u001b[43m(\u001b[49m\u001b[43mpath\u001b[49m\u001b[43m)\u001b[49m\u001b[43m)\u001b[49m)\n\u001b[0;32m    741\u001b[0m \u001b[38;5;28;01melif\u001b[39;00m \u001b[38;5;28misinstance\u001b[39m(path, RDD):\n\u001b[0;32m    743\u001b[0m     \u001b[38;5;28;01mdef\u001b[39;00m \u001b[38;5;21mfunc\u001b[39m(iterator):\n",
      "File \u001b[1;32mc:\\Program Files\\Python312\\Lib\\site-packages\\py4j\\java_gateway.py:1322\u001b[0m, in \u001b[0;36mJavaMember.__call__\u001b[1;34m(self, *args)\u001b[0m\n\u001b[0;32m   1316\u001b[0m command \u001b[38;5;241m=\u001b[39m proto\u001b[38;5;241m.\u001b[39mCALL_COMMAND_NAME \u001b[38;5;241m+\u001b[39m\\\n\u001b[0;32m   1317\u001b[0m     \u001b[38;5;28mself\u001b[39m\u001b[38;5;241m.\u001b[39mcommand_header \u001b[38;5;241m+\u001b[39m\\\n\u001b[0;32m   1318\u001b[0m     args_command \u001b[38;5;241m+\u001b[39m\\\n\u001b[0;32m   1319\u001b[0m     proto\u001b[38;5;241m.\u001b[39mEND_COMMAND_PART\n\u001b[0;32m   1321\u001b[0m answer \u001b[38;5;241m=\u001b[39m \u001b[38;5;28mself\u001b[39m\u001b[38;5;241m.\u001b[39mgateway_client\u001b[38;5;241m.\u001b[39msend_command(command)\n\u001b[1;32m-> 1322\u001b[0m return_value \u001b[38;5;241m=\u001b[39m \u001b[43mget_return_value\u001b[49m\u001b[43m(\u001b[49m\n\u001b[0;32m   1323\u001b[0m \u001b[43m    \u001b[49m\u001b[43manswer\u001b[49m\u001b[43m,\u001b[49m\u001b[43m \u001b[49m\u001b[38;5;28;43mself\u001b[39;49m\u001b[38;5;241;43m.\u001b[39;49m\u001b[43mgateway_client\u001b[49m\u001b[43m,\u001b[49m\u001b[43m \u001b[49m\u001b[38;5;28;43mself\u001b[39;49m\u001b[38;5;241;43m.\u001b[39;49m\u001b[43mtarget_id\u001b[49m\u001b[43m,\u001b[49m\u001b[43m \u001b[49m\u001b[38;5;28;43mself\u001b[39;49m\u001b[38;5;241;43m.\u001b[39;49m\u001b[43mname\u001b[49m\u001b[43m)\u001b[49m\n\u001b[0;32m   1325\u001b[0m \u001b[38;5;28;01mfor\u001b[39;00m temp_arg \u001b[38;5;129;01min\u001b[39;00m temp_args:\n\u001b[0;32m   1326\u001b[0m     \u001b[38;5;28;01mif\u001b[39;00m \u001b[38;5;28mhasattr\u001b[39m(temp_arg, \u001b[38;5;124m\"\u001b[39m\u001b[38;5;124m_detach\u001b[39m\u001b[38;5;124m\"\u001b[39m):\n",
      "File \u001b[1;32mc:\\Program Files\\Python312\\Lib\\site-packages\\pyspark\\errors\\exceptions\\captured.py:185\u001b[0m, in \u001b[0;36mcapture_sql_exception.<locals>.deco\u001b[1;34m(*a, **kw)\u001b[0m\n\u001b[0;32m    181\u001b[0m converted \u001b[38;5;241m=\u001b[39m convert_exception(e\u001b[38;5;241m.\u001b[39mjava_exception)\n\u001b[0;32m    182\u001b[0m \u001b[38;5;28;01mif\u001b[39;00m \u001b[38;5;129;01mnot\u001b[39;00m \u001b[38;5;28misinstance\u001b[39m(converted, UnknownException):\n\u001b[0;32m    183\u001b[0m     \u001b[38;5;66;03m# Hide where the exception came from that shows a non-Pythonic\u001b[39;00m\n\u001b[0;32m    184\u001b[0m     \u001b[38;5;66;03m# JVM exception message.\u001b[39;00m\n\u001b[1;32m--> 185\u001b[0m     \u001b[38;5;28;01mraise\u001b[39;00m converted \u001b[38;5;28;01mfrom\u001b[39;00m \u001b[38;5;28;01mNone\u001b[39;00m\n\u001b[0;32m    186\u001b[0m \u001b[38;5;28;01melse\u001b[39;00m:\n\u001b[0;32m    187\u001b[0m     \u001b[38;5;28;01mraise\u001b[39;00m\n",
      "\u001b[1;31mAnalysisException\u001b[0m: [PATH_NOT_FOUND] Path does not exist: file:/c:/Users/x850374/Projects/platform/data_framework/src/dsd."
     ]
    }
   ],
   "source": [
    "\n",
    "\n",
    "csv_read_config = config().processes.landing_to_raw.incoming_file.csv_specs.read_config()\n",
    "df_raw = spark.read.options(**csv_read_config).csv(\"dsd\")"
   ]
  },
  {
   "cell_type": "code",
   "execution_count": 2,
   "id": "8c767723",
   "metadata": {},
   "outputs": [
    {
     "name": "stdout",
     "output_type": "stream",
     "text": [
      "PayloadResponse(success=False, next_stage=False, file_name=None, file_date=None, data_quality=DataQuality(tables=[]), outputs=[])\n",
      "2024-11-25 09:57:16 [ERROR][landing.py][process][52] Error processing file morningstar_dividend_correction/inbound/RTPP_REG_ROW_TYPE_DIVIDEND_20240710_CORRECTION.ZIP: Could not connect to the endpoint URL: \"https://aihd1airas3aihgdp-landing.s3.region.amazonaws.com/morningstar_dividend_correction/inbound/RTPP_REG_ROW_TYPE_DIVIDEND_20240710_CORRECTION.ZIP\"\n"
     ]
    }
   ],
   "source": [
    "from data_framework.dataflow.landing import *\n",
    "\n",
    "pc = ProcessingCoordinator()\n",
    "pc.process()"
   ]
  }
 ],
 "metadata": {
  "kernelspec": {
   "display_name": "Python 3",
   "language": "python",
   "name": "python3"
  },
  "language_info": {
   "codemirror_mode": {
    "name": "ipython",
    "version": 3
   },
   "file_extension": ".py",
   "mimetype": "text/x-python",
   "name": "python",
   "nbconvert_exporter": "python",
   "pygments_lexer": "ipython3",
   "version": "3.12.0"
  }
 },
 "nbformat": 4,
 "nbformat_minor": 5
}
