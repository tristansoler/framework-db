{
 "cells": [
  {
   "cell_type": "code",
   "execution_count": 1,
   "id": "4fc0212c-3e00-4db6-adf7-df9bd209a479",
   "metadata": {},
   "outputs": [
    {
     "name": "stdout",
     "output_type": "stream",
     "text": [
      "morningstar\n",
      "region\n",
      "aihd1airas3aihgdp\n",
      "LandingToRaw(incoming_file=IncomingFileLandingToRaw(zipped='zip', file_format='csv', filename_pattern='RTPP_REG_ROW_TYPE_VALUATION_V2_\\\\d{8}_CORRECTION.ZIP', filename_unzipped_pattern='RTPP_REG_ROW_TYPE_VALUATION_V2_\\\\d{8}_CORRECTION.TXT', csv_specs=CSVSpecs(header_position=0, header=True, encoding='UTF-8', delimiter=';', date_located='filename', date_located_filename=DateLocatedFilename(regex='(\\\\d{4})(\\\\d{2})(\\\\d{2})')), validations=Validations(validate_filename=True, validate_csv=True, validate_columns=True), compare_with_previous_file=False), output_file=DatabaseTable(database='funds_raw', table='morningstar_valuation_correction', primary_keys=None, partition_field='datadate'), processing_specifications=ProcessingSpecifications(technology='emr', hardware=Hardware(ram=512, cpu=None, disk=None), spark_configuration=SparkConfiguration(catalog=None, warehouse='funds_raw', custom_configuration=[])))\n",
      "TableDict(tables={'morningstar_valuation_prod': DatabaseTable(database='funds_raw', table='morningstar_valuation_prod', primary_keys=['performanceid', 'date', 'datadate'], partition_field='datadate'), 'morningstar_valuation_correction': DatabaseTable(database='funds_raw', table='morningstar_valuation_correction', primary_keys=['performanceid', 'date', 'datadate'], partition_field='datadate')})\n"
     ]
    }
   ],
   "source": [
    "from data_framework.modules.utils.logger import logger\n",
    "from data_framework.modules.config.core import ConfigSetup\n",
    "from data_framework.modules.config.core import config, ConfigSetup\n",
    "\n",
    "import sys\n",
    "import os\n",
    "\n",
    "os.environ[\"AWS_REGION\"] = \"region\"\n",
    "\n",
    "sys.argv = [\n",
    "    \"sample.py\",\n",
    "    '--local-file', '\\\\tests\\\\resources\\\\configs\\\\morningstar',\n",
    "    '--dataflow', 'morningstar_valuation_correction',\n",
    "    '--process', 'landing_to_raw',\n",
    "    '--source-file-path', 'morningstar_dividend_correction/inbound/RTPP_REG_ROW_TYPE_DIVIDEND_20240710_CORRECTION.ZIP'\n",
    "]\n",
    "\n",
    "ConfigSetup()\n",
    "print(config().project_id)\n",
    "print(config().parameters.region)\n",
    "print(config().parameters.bucket_prefix)\n",
    "print(config().processes.landing_to_raw)\n",
    "print(config().processes.raw_to_staging.source_tables)\n",
    "\n",
    "\n",
    "\n"
   ]
  },
  {
   "cell_type": "code",
   "execution_count": 2,
   "id": "8c767723",
   "metadata": {},
   "outputs": [
    {
     "ename": "AttributeError",
     "evalue": "'ProcessingCoordinator' object has no attribute '_DataFlowInterface__payload_response'",
     "output_type": "error",
     "traceback": [
      "\u001b[1;31m---------------------------------------------------------------------------\u001b[0m",
      "\u001b[1;31mAttributeError\u001b[0m                            Traceback (most recent call last)",
      "Cell \u001b[1;32mIn[2], line 4\u001b[0m\n\u001b[0;32m      1\u001b[0m \u001b[38;5;28;01mfrom\u001b[39;00m \u001b[38;5;21;01mdata_framework\u001b[39;00m\u001b[38;5;21;01m.\u001b[39;00m\u001b[38;5;21;01mdataflow\u001b[39;00m\u001b[38;5;21;01m.\u001b[39;00m\u001b[38;5;21;01mlanding\u001b[39;00m \u001b[38;5;28;01mimport\u001b[39;00m \u001b[38;5;241m*\u001b[39m\n\u001b[0;32m      3\u001b[0m pc \u001b[38;5;241m=\u001b[39m ProcessingCoordinator()\n\u001b[1;32m----> 4\u001b[0m \u001b[43mpc\u001b[49m\u001b[38;5;241;43m.\u001b[39;49m\u001b[43mprocess\u001b[49m\u001b[43m(\u001b[49m\u001b[43m)\u001b[49m\n",
      "File \u001b[1;32mc:\\Users\\x850374\\Projects\\platform\\data_framework\\src\\data_framework\\dataflow\\landing.py:22\u001b[0m, in \u001b[0;36mProcessingCoordinator.process\u001b[1;34m(self)\u001b[0m\n\u001b[0;32m     20\u001b[0m \u001b[38;5;28;01mdef\u001b[39;00m \u001b[38;5;21mprocess\u001b[39m(\u001b[38;5;28mself\u001b[39m) \u001b[38;5;241m-\u001b[39m\u001b[38;5;241m>\u001b[39m \u001b[38;5;28mdict\u001b[39m:\n\u001b[1;32m---> 22\u001b[0m     \u001b[38;5;28mprint\u001b[39m(\u001b[38;5;28;43mself\u001b[39;49m\u001b[38;5;241;43m.\u001b[39;49m\u001b[43mpayload_response\u001b[49m())\n\u001b[0;32m     24\u001b[0m     \u001b[38;5;28;01mtry\u001b[39;00m:\n\u001b[0;32m     25\u001b[0m         \u001b[38;5;28mself\u001b[39m\u001b[38;5;241m.\u001b[39mpayload_response\u001b[38;5;241m.\u001b[39mfile_name \u001b[38;5;241m=\u001b[39m Path(\u001b[38;5;28mself\u001b[39m\u001b[38;5;241m.\u001b[39mconfig\u001b[38;5;241m.\u001b[39mparameters\u001b[38;5;241m.\u001b[39msource_file_path)\u001b[38;5;241m.\u001b[39mname\n",
      "File \u001b[1;32mc:\\Users\\x850374\\Projects\\platform\\data_framework\\src\\data_framework\\modules\\dataflow\\interface_dataflow.py:63\u001b[0m, in \u001b[0;36mDataFlowInterface.payload_response\u001b[1;34m(self)\u001b[0m\n\u001b[0;32m     61\u001b[0m \u001b[38;5;129m@property\u001b[39m\n\u001b[0;32m     62\u001b[0m \u001b[38;5;28;01mdef\u001b[39;00m \u001b[38;5;21mpayload_response\u001b[39m(\u001b[38;5;28mself\u001b[39m) \u001b[38;5;241m-\u001b[39m\u001b[38;5;241m>\u001b[39m PayloadResponse:\n\u001b[1;32m---> 63\u001b[0m     \u001b[38;5;28;01mreturn\u001b[39;00m \u001b[38;5;28;43mself\u001b[39;49m\u001b[38;5;241;43m.\u001b[39;49m\u001b[43m__payload_response\u001b[49m\n",
      "\u001b[1;31mAttributeError\u001b[0m: 'ProcessingCoordinator' object has no attribute '_DataFlowInterface__payload_response'"
     ]
    }
   ],
   "source": [
    "from data_framework.dataflow.landing import *\n",
    "\n",
    "pc = ProcessingCoordinator()\n",
    "pc.process()"
   ]
  }
 ],
 "metadata": {
  "kernelspec": {
   "display_name": "Python 3",
   "language": "python",
   "name": "python3"
  },
  "language_info": {
   "codemirror_mode": {
    "name": "ipython",
    "version": 3
   },
   "file_extension": ".py",
   "mimetype": "text/x-python",
   "name": "python",
   "nbconvert_exporter": "python",
   "pygments_lexer": "ipython3",
   "version": "3.12.0"
  }
 },
 "nbformat": 4,
 "nbformat_minor": 5
}
